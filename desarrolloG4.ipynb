{
 "cells": [
  {
   "metadata": {},
   "cell_type": "markdown",
   "source": [
    "# Proyecto Inteligencia de Negocio con Procesos ETL\n",
    "\n",
    "## Proyecto clase 1\n",
    "\n",
    "Este proyecto esta enfocado al entendimiento de la data para la obtención de nuestro modelo de estrella generado en la clase"
   ],
   "id": "f1dd6e625e9df92"
  },
  {
   "metadata": {},
   "cell_type": "markdown",
   "source": "## Importación de Dependencias",
   "id": "caf3e4a3e966c66"
  },
  {
   "metadata": {
    "ExecuteTime": {
     "end_time": "2025-09-08T01:58:58.816105Z",
     "start_time": "2025-09-08T01:58:58.303377Z"
    }
   },
   "cell_type": "code",
   "source": [
    "import pandas as pd\n",
    "from dotenv import load_dotenv\n",
    "import os\n",
    "load_dotenv()"
   ],
   "id": "affc6ac01bb306d5",
   "outputs": [
    {
     "data": {
      "text/plain": [
       "True"
      ]
     },
     "execution_count": 6,
     "metadata": {},
     "output_type": "execute_result"
    }
   ],
   "execution_count": 6
  },
  {
   "metadata": {
    "ExecuteTime": {
     "end_time": "2025-09-08T02:03:57.602521Z",
     "start_time": "2025-09-08T02:03:57.598818Z"
    }
   },
   "cell_type": "code",
   "source": "print(os.getenv('DB_HOST'))",
   "id": "4315cad34daccd06",
   "outputs": [
    {
     "name": "stdout",
     "output_type": "stream",
     "text": [
      "localhost\n"
     ]
    }
   ],
   "execution_count": 9
  },
  {
   "metadata": {},
   "cell_type": "markdown",
   "source": "## Carga de datos Json y CSV",
   "id": "d6120457da05ba21"
  },
  {
   "metadata": {
    "ExecuteTime": {
     "end_time": "2025-09-08T01:59:00.315792Z",
     "start_time": "2025-09-08T01:58:58.886822Z"
    }
   },
   "cell_type": "code",
   "source": "pip install pandas numpy sqlalchemy psycopg2 matplotlib",
   "id": "1a20f600dcfe7d10",
   "outputs": [
    {
     "name": "stdout",
     "output_type": "stream",
     "text": [
      "Requirement already satisfied: pandas in c:\\users\\admin\\dataspellprojects\\practica_g4\\practica_g4\\lib\\site-packages (2.3.2)\n",
      "Requirement already satisfied: numpy in c:\\users\\admin\\dataspellprojects\\practica_g4\\practica_g4\\lib\\site-packages (2.3.2)\n",
      "Requirement already satisfied: sqlalchemy in c:\\users\\admin\\dataspellprojects\\practica_g4\\practica_g4\\lib\\site-packages (2.0.43)\n",
      "Requirement already satisfied: psycopg2 in c:\\users\\admin\\dataspellprojects\\practica_g4\\practica_g4\\lib\\site-packages (2.9.10)\n",
      "Requirement already satisfied: matplotlib in c:\\users\\admin\\dataspellprojects\\practica_g4\\practica_g4\\lib\\site-packages (3.10.6)\n",
      "Requirement already satisfied: python-dateutil>=2.8.2 in c:\\users\\admin\\dataspellprojects\\practica_g4\\practica_g4\\lib\\site-packages (from pandas) (2.9.0.post0)\n",
      "Requirement already satisfied: pytz>=2020.1 in c:\\users\\admin\\dataspellprojects\\practica_g4\\practica_g4\\lib\\site-packages (from pandas) (2025.2)\n",
      "Requirement already satisfied: tzdata>=2022.7 in c:\\users\\admin\\dataspellprojects\\practica_g4\\practica_g4\\lib\\site-packages (from pandas) (2025.2)\n",
      "Requirement already satisfied: greenlet>=1 in c:\\users\\admin\\dataspellprojects\\practica_g4\\practica_g4\\lib\\site-packages (from sqlalchemy) (3.2.4)\n",
      "Requirement already satisfied: typing-extensions>=4.6.0 in c:\\users\\admin\\dataspellprojects\\practica_g4\\practica_g4\\lib\\site-packages (from sqlalchemy) (4.15.0)\n",
      "Requirement already satisfied: contourpy>=1.0.1 in c:\\users\\admin\\dataspellprojects\\practica_g4\\practica_g4\\lib\\site-packages (from matplotlib) (1.3.3)\n",
      "Requirement already satisfied: cycler>=0.10 in c:\\users\\admin\\dataspellprojects\\practica_g4\\practica_g4\\lib\\site-packages (from matplotlib) (0.12.1)\n",
      "Requirement already satisfied: fonttools>=4.22.0 in c:\\users\\admin\\dataspellprojects\\practica_g4\\practica_g4\\lib\\site-packages (from matplotlib) (4.59.2)\n",
      "Requirement already satisfied: kiwisolver>=1.3.1 in c:\\users\\admin\\dataspellprojects\\practica_g4\\practica_g4\\lib\\site-packages (from matplotlib) (1.4.9)\n",
      "Requirement already satisfied: packaging>=20.0 in c:\\users\\admin\\dataspellprojects\\practica_g4\\practica_g4\\lib\\site-packages (from matplotlib) (25.0)\n",
      "Requirement already satisfied: pillow>=8 in c:\\users\\admin\\dataspellprojects\\practica_g4\\practica_g4\\lib\\site-packages (from matplotlib) (11.3.0)\n",
      "Requirement already satisfied: pyparsing>=2.3.1 in c:\\users\\admin\\dataspellprojects\\practica_g4\\practica_g4\\lib\\site-packages (from matplotlib) (3.2.3)\n",
      "Requirement already satisfied: six>=1.5 in c:\\users\\admin\\dataspellprojects\\practica_g4\\practica_g4\\lib\\site-packages (from python-dateutil>=2.8.2->pandas) (1.17.0)\n",
      "Note: you may need to restart the kernel to use updated packages.\n"
     ]
    },
    {
     "name": "stderr",
     "output_type": "stream",
     "text": [
      "\n",
      "[notice] A new release of pip is available: 25.1.1 -> 25.2\n",
      "[notice] To update, run: python.exe -m pip install --upgrade pip\n"
     ]
    }
   ],
   "execution_count": 8
  }
 ],
 "metadata": {
  "kernelspec": {
   "display_name": "Python 3",
   "language": "python",
   "name": "python3"
  },
  "language_info": {
   "codemirror_mode": {
    "name": "ipython",
    "version": 2
   },
   "file_extension": ".py",
   "mimetype": "text/x-python",
   "name": "python",
   "nbconvert_exporter": "python",
   "pygments_lexer": "ipython2",
   "version": "2.7.6"
  }
 },
 "nbformat": 4,
 "nbformat_minor": 5
}
