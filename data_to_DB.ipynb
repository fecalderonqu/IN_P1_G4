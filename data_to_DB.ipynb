{
 "cells": [
  {
   "cell_type": "code",
   "id": "initial_id",
   "metadata": {
    "collapsed": true,
    "ExecuteTime": {
     "end_time": "2025-09-09T03:31:15.675915Z",
     "start_time": "2025-09-09T03:31:15.191085Z"
    }
   },
   "source": [
    "import psycopg2\n",
    "import pandas as pd\n"
   ],
   "outputs": [],
   "execution_count": 1
  },
  {
   "metadata": {
    "ExecuteTime": {
     "end_time": "2025-09-09T03:31:27.061711Z",
     "start_time": "2025-09-09T03:31:27.055959Z"
    }
   },
   "cell_type": "code",
   "source": [
    "DB_CONFIG = {\n",
    "    'host': 'localhost',\n",
    "    'port': 5432,\n",
    "    'user': 'auser',\n",
    "    'password': 'Practica1_g4',\n",
    "    'dbname': 'postgres'\n",
    "}\n",
    "DB_ANOMALIAS = 'postgres'\n",
    "CSV_PATH = ['/Users/fernandocalderon05/Escritorio2/UIDE/MAESTRIA/4. INTELIGENCIA DE NEGOCIOS/PRACTICA 1/Practica1_G4/IN_P1_G4/dataset/population_data.csv']\n",
    "BATCH_SIZE = 10\n",
    "MAX_WORKERS = 10"
   ],
   "id": "d8825cd4dc1a87c2",
   "outputs": [],
   "execution_count": 2
  },
  {
   "metadata": {
    "ExecuteTime": {
     "end_time": "2025-09-09T03:31:37.352438Z",
     "start_time": "2025-09-09T03:31:37.341140Z"
    }
   },
   "cell_type": "code",
   "source": [
    "def verificar_conexion():\n",
    "    try:\n",
    "        with psycopg2.connect(**DB_CONFIG) as conn:\n",
    "            with conn.cursor() as cur:\n",
    "                cur.execute(\"SELECT 1;\")\n",
    "                _ = cur.fetchone()\n",
    "        print(\"✅ Conexión exitosa a PostgreSQL.\")\n",
    "    except Exception as e:\n",
    "        print(f\"❌ Error al conectar: {e}\")"
   ],
   "id": "6ef58c92032e31de",
   "outputs": [],
   "execution_count": 3
  },
  {
   "metadata": {
    "ExecuteTime": {
     "end_time": "2025-09-09T03:31:59.122152Z",
     "start_time": "2025-09-09T03:31:59.111986Z"
    }
   },
   "cell_type": "code",
   "source": [
    "def crear_tabla(column_names, tabla='population'):\n",
    "    columns_str = ', '.join([f'\"{col}\" VARCHAR(100)' for col in column_names])\n",
    "    sql = f\"CREATE TABLE IF NOT EXISTS {tabla} (id SERIAL PRIMARY KEY,{columns_str});\"\n",
    "    try:\n",
    "        with psycopg2.connect(**DB_CONFIG) as conn:\n",
    "            with conn.cursor() as cur:\n",
    "                cur.execute(sql)\n",
    "                conn.commit()\n",
    "        print(\"✅ Tabla creada.\")\n",
    "    except Exception as e:\n",
    "        print(f\"❌ Error al crear la tabla: {e}\")"
   ],
   "id": "12d87a98ae064844",
   "outputs": [],
   "execution_count": 4
  },
  {
   "metadata": {
    "ExecuteTime": {
     "end_time": "2025-09-09T03:32:08.420844Z",
     "start_time": "2025-09-09T03:32:08.416967Z"
    }
   },
   "cell_type": "code",
   "source": [
    "def consulta_a_dataframe(query, params=None):\n",
    "    try:\n",
    "        with psycopg2.connect(**DB_CONFIG) as conn:\n",
    "            df = pd.read_sql_query(query, conn, params=params)\n",
    "        print(\"✅ Consulta ejecutada con éxito.\")\n",
    "        return df\n",
    "    except Exception as e:\n",
    "        print(f\"❌ Error al ejecutar consulta: {e}\")\n",
    "        return pd.DataFrame()  # retorna vacío si falla"
   ],
   "id": "8400af029aa2d6f",
   "outputs": [],
   "execution_count": 5
  },
  {
   "metadata": {
    "ExecuteTime": {
     "end_time": "2025-09-09T03:32:22.549203Z",
     "start_time": "2025-09-09T03:32:22.535514Z"
    }
   },
   "cell_type": "code",
   "source": [
    "def insertar_registros(data, tabla='population'):\n",
    "    try:\n",
    "        # Columnas entre comillas dobles si tienen espacios o mayúsculas\n",
    "        columnas = ', '.join([f'\"{col}\"' for col in data.columns])\n",
    "        placeholders = ', '.join(['%s'] * len(data.columns))\n",
    "        sql = f\"INSERT INTO {tabla} ({columnas}) VALUES ({placeholders});\"\n",
    "        with psycopg2.connect(**DB_CONFIG) as conn:\n",
    "            with conn.cursor() as cur:\n",
    "                for row in data.itertuples(index=False, name=None):\n",
    "                    cur.execute(sql, row)\n",
    "            conn.commit()\n",
    "\n",
    "        print(f\"✅ Insertados {len(data)} registros.\")\n",
    "\n",
    "    except Exception as e:\n",
    "        print(f\"❌ Error al insertar dato: {e}\")"
   ],
   "id": "ed786a1e7a8d8ab7",
   "outputs": [],
   "execution_count": 6
  },
  {
   "metadata": {
    "ExecuteTime": {
     "end_time": "2025-09-09T03:38:20.697648Z",
     "start_time": "2025-09-09T03:38:20.470810Z"
    }
   },
   "cell_type": "code",
   "source": [
    "def main():\n",
    "    try:\n",
    "        verificar_conexion()\n",
    "\n",
    "        print(\"⏳ Leyendo archivo CSV...\")\n",
    "        for csv_path in CSV_PATH:\n",
    "            df = pd.read_csv(csv_path, delimiter=',', encoding='utf-8')\n",
    "            column_names = df.columns.tolist()\n",
    "            crear_tabla(column_names)\n",
    "            insertar_registros(df)\n",
    "        print(\"⏳ Insertando registros en la base de datos...\")\n",
    "    except Exception as e:\n",
    "        print(f\"❌ Error en el proceso principal: {e}\")\n",
    "\n",
    "if __name__ == '__main__':\n",
    "    main()"
   ],
   "id": "5a82fd5931320162",
   "outputs": [
    {
     "name": "stdout",
     "output_type": "stream",
     "text": [
      "✅ Conexión exitosa a PostgreSQL.\n",
      "⏳ Leyendo archivo CSV...\n",
      "✅ Tabla creada.\n",
      "✅ Insertados 264 registros.\n",
      "✅ Consulta ejecutada con éxito.\n",
      "⏳ Insertando registros en la base de datos...\n"
     ]
    },
    {
     "name": "stderr",
     "output_type": "stream",
     "text": [
      "/var/folders/pd/0xzmj7j51p7997xsvfv18wsh0000gn/T/ipykernel_9990/1920335490.py:4: UserWarning: pandas only supports SQLAlchemy connectable (engine/connection) or database string URI or sqlite3 DBAPI2 connection. Other DBAPI2 objects are not tested. Please consider using SQLAlchemy.\n",
      "  df = pd.read_sql_query(query, conn, params=params)\n"
     ]
    }
   ],
   "execution_count": 13
  },
  {
   "metadata": {
    "ExecuteTime": {
     "end_time": "2025-09-09T03:38:46.392029Z",
     "start_time": "2025-09-09T03:38:46.331934Z"
    }
   },
   "cell_type": "code",
   "source": [
    "## pueden crear varios df en base a la consulta que deseen hacer por ejemplo: df1\n",
    "df1 = consulta_a_dataframe(\"SELECT * FROM population LIMIT 5;\")\n",
    "df1.drop(columns=['Unnamed: 62'], inplace=True)\n",
    "df.head()"
   ],
   "id": "ccd39d568318c486",
   "outputs": [
    {
     "name": "stdout",
     "output_type": "stream",
     "text": [
      "✅ Consulta ejecutada con éxito.\n"
     ]
    },
    {
     "name": "stderr",
     "output_type": "stream",
     "text": [
      "/var/folders/pd/0xzmj7j51p7997xsvfv18wsh0000gn/T/ipykernel_9990/1920335490.py:4: UserWarning: pandas only supports SQLAlchemy connectable (engine/connection) or database string URI or sqlite3 DBAPI2 connection. Other DBAPI2 objects are not tested. Please consider using SQLAlchemy.\n",
      "  df = pd.read_sql_query(query, conn, params=params)\n"
     ]
    },
    {
     "data": {
      "text/plain": [
       "  Country Name Country Code     Indicator Name Indicator Code       1960  \\\n",
       "0        Aruba          ABW  Population, total    SP.POP.TOTL    54211.0   \n",
       "1  Afghanistan          AFG  Population, total    SP.POP.TOTL  8996351.0   \n",
       "2       Angola          AGO  Population, total    SP.POP.TOTL  5643182.0   \n",
       "3      Albania          ALB  Population, total    SP.POP.TOTL  1608800.0   \n",
       "4      Andorra          AND  Population, total    SP.POP.TOTL    13411.0   \n",
       "\n",
       "        1961       1962       1963       1964       1965  ...        2009  \\\n",
       "0    55438.0    56225.0    56695.0    57032.0    57360.0  ...    101453.0   \n",
       "1  9166764.0  9345868.0  9533954.0  9731361.0  9938414.0  ...  28004331.0   \n",
       "2  5753024.0  5866061.0  5980417.0  6093321.0  6203299.0  ...  22549547.0   \n",
       "3  1659800.0  1711319.0  1762621.0  1814135.0  1864791.0  ...   2927519.0   \n",
       "4    14375.0    15370.0    16412.0    17469.0    18549.0  ...     84462.0   \n",
       "\n",
       "         2010        2011        2012        2013        2014        2015  \\\n",
       "0    101669.0    102053.0    102577.0    103187.0    103795.0    104341.0   \n",
       "1  28803167.0  29708599.0  30696958.0  31731688.0  32758020.0  33736494.0   \n",
       "2  23369131.0  24218565.0  25096150.0  25998340.0  26920466.0  27859305.0   \n",
       "3   2913021.0   2905195.0   2900401.0   2895092.0   2889104.0   2880703.0   \n",
       "4     84449.0     83751.0     82431.0     80788.0     79223.0     78014.0   \n",
       "\n",
       "         2016        2017  Unnamed: 62  \n",
       "0    104822.0    105264.0          NaN  \n",
       "1  34656032.0  35530081.0          NaN  \n",
       "2  28813463.0  29784193.0          NaN  \n",
       "3   2876101.0   2873457.0          NaN  \n",
       "4     77281.0     76965.0          NaN  \n",
       "\n",
       "[5 rows x 63 columns]"
      ],
      "text/html": [
       "<div>\n",
       "<style scoped>\n",
       "    .dataframe tbody tr th:only-of-type {\n",
       "        vertical-align: middle;\n",
       "    }\n",
       "\n",
       "    .dataframe tbody tr th {\n",
       "        vertical-align: top;\n",
       "    }\n",
       "\n",
       "    .dataframe thead th {\n",
       "        text-align: right;\n",
       "    }\n",
       "</style>\n",
       "<table border=\"1\" class=\"dataframe\">\n",
       "  <thead>\n",
       "    <tr style=\"text-align: right;\">\n",
       "      <th></th>\n",
       "      <th>Country Name</th>\n",
       "      <th>Country Code</th>\n",
       "      <th>Indicator Name</th>\n",
       "      <th>Indicator Code</th>\n",
       "      <th>1960</th>\n",
       "      <th>1961</th>\n",
       "      <th>1962</th>\n",
       "      <th>1963</th>\n",
       "      <th>1964</th>\n",
       "      <th>1965</th>\n",
       "      <th>...</th>\n",
       "      <th>2009</th>\n",
       "      <th>2010</th>\n",
       "      <th>2011</th>\n",
       "      <th>2012</th>\n",
       "      <th>2013</th>\n",
       "      <th>2014</th>\n",
       "      <th>2015</th>\n",
       "      <th>2016</th>\n",
       "      <th>2017</th>\n",
       "      <th>Unnamed: 62</th>\n",
       "    </tr>\n",
       "  </thead>\n",
       "  <tbody>\n",
       "    <tr>\n",
       "      <th>0</th>\n",
       "      <td>Aruba</td>\n",
       "      <td>ABW</td>\n",
       "      <td>Population, total</td>\n",
       "      <td>SP.POP.TOTL</td>\n",
       "      <td>54211.0</td>\n",
       "      <td>55438.0</td>\n",
       "      <td>56225.0</td>\n",
       "      <td>56695.0</td>\n",
       "      <td>57032.0</td>\n",
       "      <td>57360.0</td>\n",
       "      <td>...</td>\n",
       "      <td>101453.0</td>\n",
       "      <td>101669.0</td>\n",
       "      <td>102053.0</td>\n",
       "      <td>102577.0</td>\n",
       "      <td>103187.0</td>\n",
       "      <td>103795.0</td>\n",
       "      <td>104341.0</td>\n",
       "      <td>104822.0</td>\n",
       "      <td>105264.0</td>\n",
       "      <td>NaN</td>\n",
       "    </tr>\n",
       "    <tr>\n",
       "      <th>1</th>\n",
       "      <td>Afghanistan</td>\n",
       "      <td>AFG</td>\n",
       "      <td>Population, total</td>\n",
       "      <td>SP.POP.TOTL</td>\n",
       "      <td>8996351.0</td>\n",
       "      <td>9166764.0</td>\n",
       "      <td>9345868.0</td>\n",
       "      <td>9533954.0</td>\n",
       "      <td>9731361.0</td>\n",
       "      <td>9938414.0</td>\n",
       "      <td>...</td>\n",
       "      <td>28004331.0</td>\n",
       "      <td>28803167.0</td>\n",
       "      <td>29708599.0</td>\n",
       "      <td>30696958.0</td>\n",
       "      <td>31731688.0</td>\n",
       "      <td>32758020.0</td>\n",
       "      <td>33736494.0</td>\n",
       "      <td>34656032.0</td>\n",
       "      <td>35530081.0</td>\n",
       "      <td>NaN</td>\n",
       "    </tr>\n",
       "    <tr>\n",
       "      <th>2</th>\n",
       "      <td>Angola</td>\n",
       "      <td>AGO</td>\n",
       "      <td>Population, total</td>\n",
       "      <td>SP.POP.TOTL</td>\n",
       "      <td>5643182.0</td>\n",
       "      <td>5753024.0</td>\n",
       "      <td>5866061.0</td>\n",
       "      <td>5980417.0</td>\n",
       "      <td>6093321.0</td>\n",
       "      <td>6203299.0</td>\n",
       "      <td>...</td>\n",
       "      <td>22549547.0</td>\n",
       "      <td>23369131.0</td>\n",
       "      <td>24218565.0</td>\n",
       "      <td>25096150.0</td>\n",
       "      <td>25998340.0</td>\n",
       "      <td>26920466.0</td>\n",
       "      <td>27859305.0</td>\n",
       "      <td>28813463.0</td>\n",
       "      <td>29784193.0</td>\n",
       "      <td>NaN</td>\n",
       "    </tr>\n",
       "    <tr>\n",
       "      <th>3</th>\n",
       "      <td>Albania</td>\n",
       "      <td>ALB</td>\n",
       "      <td>Population, total</td>\n",
       "      <td>SP.POP.TOTL</td>\n",
       "      <td>1608800.0</td>\n",
       "      <td>1659800.0</td>\n",
       "      <td>1711319.0</td>\n",
       "      <td>1762621.0</td>\n",
       "      <td>1814135.0</td>\n",
       "      <td>1864791.0</td>\n",
       "      <td>...</td>\n",
       "      <td>2927519.0</td>\n",
       "      <td>2913021.0</td>\n",
       "      <td>2905195.0</td>\n",
       "      <td>2900401.0</td>\n",
       "      <td>2895092.0</td>\n",
       "      <td>2889104.0</td>\n",
       "      <td>2880703.0</td>\n",
       "      <td>2876101.0</td>\n",
       "      <td>2873457.0</td>\n",
       "      <td>NaN</td>\n",
       "    </tr>\n",
       "    <tr>\n",
       "      <th>4</th>\n",
       "      <td>Andorra</td>\n",
       "      <td>AND</td>\n",
       "      <td>Population, total</td>\n",
       "      <td>SP.POP.TOTL</td>\n",
       "      <td>13411.0</td>\n",
       "      <td>14375.0</td>\n",
       "      <td>15370.0</td>\n",
       "      <td>16412.0</td>\n",
       "      <td>17469.0</td>\n",
       "      <td>18549.0</td>\n",
       "      <td>...</td>\n",
       "      <td>84462.0</td>\n",
       "      <td>84449.0</td>\n",
       "      <td>83751.0</td>\n",
       "      <td>82431.0</td>\n",
       "      <td>80788.0</td>\n",
       "      <td>79223.0</td>\n",
       "      <td>78014.0</td>\n",
       "      <td>77281.0</td>\n",
       "      <td>76965.0</td>\n",
       "      <td>NaN</td>\n",
       "    </tr>\n",
       "  </tbody>\n",
       "</table>\n",
       "<p>5 rows × 63 columns</p>\n",
       "</div>"
      ]
     },
     "execution_count": 14,
     "metadata": {},
     "output_type": "execute_result"
    }
   ],
   "execution_count": 14
  }
 ],
 "metadata": {
  "kernelspec": {
   "display_name": "Python 3",
   "language": "python",
   "name": "python3"
  },
  "language_info": {
   "codemirror_mode": {
    "name": "ipython",
    "version": 2
   },
   "file_extension": ".py",
   "mimetype": "text/x-python",
   "name": "python",
   "nbconvert_exporter": "python",
   "pygments_lexer": "ipython2",
   "version": "2.7.6"
  }
 },
 "nbformat": 4,
 "nbformat_minor": 5
}
