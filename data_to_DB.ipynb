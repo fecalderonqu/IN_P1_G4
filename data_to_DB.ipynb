{
 "cells": [
  {
   "cell_type": "code",
   "id": "initial_id",
   "metadata": {
    "collapsed": true,
    "ExecuteTime": {
     "end_time": "2025-09-09T05:35:28.095304Z",
     "start_time": "2025-09-09T05:35:27.662706Z"
    }
   },
   "source": [
    "import psycopg2\n",
    "import pandas as pd\n"
   ],
   "outputs": [],
   "execution_count": 2
  },
  {
   "metadata": {
    "ExecuteTime": {
     "end_time": "2025-09-09T05:35:29.688007Z",
     "start_time": "2025-09-09T05:35:29.685242Z"
    }
   },
   "cell_type": "code",
   "source": [
    "DB_CONFIG = {\n",
    "    'host': 'localhost',\n",
    "    'port': 5432,\n",
    "    'user': 'auser',\n",
    "    'password': 'Practica1_g4',\n",
    "    'dbname': 'postgres'\n",
    "}\n",
    "DB_ANOMALIAS = 'postgres'\n",
    "CSV_PATH = [\"C:\\\\Users\\\\ADMIN\\\\Documents\\\\Practica1-IDN\\\\IN_P1_G4\\\\dataset\\\\population_data.csv\"]\n",
    "BATCH_SIZE = 10\n",
    "MAX_WORKERS = 10"
   ],
   "id": "d8825cd4dc1a87c2",
   "outputs": [],
   "execution_count": 3
  },
  {
   "metadata": {
    "ExecuteTime": {
     "end_time": "2025-09-09T05:35:32.084196Z",
     "start_time": "2025-09-09T05:35:32.079061Z"
    }
   },
   "cell_type": "code",
   "source": [
    "def verificar_conexion():\n",
    "    try:\n",
    "        with psycopg2.connect(**DB_CONFIG) as conn:\n",
    "            with conn.cursor() as cur:\n",
    "                cur.execute(\"SELECT 1;\")\n",
    "                _ = cur.fetchone()\n",
    "        print(\"✅ Conexión exitosa a PostgreSQL.\")\n",
    "    except Exception as e:\n",
    "        print(f\"❌ Error al conectar: {e}\")"
   ],
   "id": "6ef58c92032e31de",
   "outputs": [],
   "execution_count": 4
  },
  {
   "metadata": {
    "ExecuteTime": {
     "end_time": "2025-09-09T05:35:33.740716Z",
     "start_time": "2025-09-09T05:35:33.735611Z"
    }
   },
   "cell_type": "code",
   "source": [
    "def crear_tabla(column_names, tabla='population'):\n",
    "    columns_str = ', '.join([f'\"{col}\" VARCHAR(100)' for col in column_names])\n",
    "    sql = f\"CREATE TABLE IF NOT EXISTS {tabla} (id SERIAL PRIMARY KEY,{columns_str});\"\n",
    "    try:\n",
    "        with psycopg2.connect(**DB_CONFIG) as conn:\n",
    "            with conn.cursor() as cur:\n",
    "                cur.execute(sql)\n",
    "                conn.commit()\n",
    "        print(\"✅ Tabla creada.\")\n",
    "    except Exception as e:\n",
    "        print(f\"❌ Error al crear la tabla: {e}\")"
   ],
   "id": "12d87a98ae064844",
   "outputs": [],
   "execution_count": 5
  },
  {
   "metadata": {
    "ExecuteTime": {
     "end_time": "2025-09-09T05:35:35.626844Z",
     "start_time": "2025-09-09T05:35:35.623565Z"
    }
   },
   "cell_type": "code",
   "source": [
    "def consulta_a_dataframe(query, params=None):\n",
    "    try:\n",
    "        with psycopg2.connect(**DB_CONFIG) as conn:\n",
    "            df = pd.read_sql_query(query, conn, params=params)\n",
    "        print(\"✅ Consulta ejecutada con éxito.\")\n",
    "        return df\n",
    "    except Exception as e:\n",
    "        print(f\"❌ Error al ejecutar consulta: {e}\")\n",
    "        return pd.DataFrame()  # retorna vacío si falla"
   ],
   "id": "8400af029aa2d6f",
   "outputs": [],
   "execution_count": 6
  },
  {
   "metadata": {
    "ExecuteTime": {
     "end_time": "2025-09-09T05:35:37.570930Z",
     "start_time": "2025-09-09T05:35:37.566956Z"
    }
   },
   "cell_type": "code",
   "source": [
    "def insertar_registros(data, tabla='population'):\n",
    "    try:\n",
    "        # Columnas entre comillas dobles si tienen espacios o mayúsculas\n",
    "        columnas = ', '.join([f'\"{col}\"' for col in data.columns])\n",
    "        placeholders = ', '.join(['%s'] * len(data.columns))\n",
    "        sql = f\"INSERT INTO {tabla} ({columnas}) VALUES ({placeholders});\"\n",
    "        with psycopg2.connect(**DB_CONFIG) as conn:\n",
    "            with conn.cursor() as cur:\n",
    "                for row in data.itertuples(index=False, name=None):\n",
    "                    cur.execute(sql, row)\n",
    "            conn.commit()\n",
    "\n",
    "        print(f\"✅ Insertados {len(data)} registros.\")\n",
    "\n",
    "    except Exception as e:\n",
    "        print(f\"❌ Error al insertar dato: {e}\")"
   ],
   "id": "ed786a1e7a8d8ab7",
   "outputs": [],
   "execution_count": 7
  },
  {
   "metadata": {
    "ExecuteTime": {
     "end_time": "2025-09-09T05:35:40.107159Z",
     "start_time": "2025-09-09T05:35:39.768998Z"
    }
   },
   "cell_type": "code",
   "source": [
    "def main():\n",
    "    try:\n",
    "        verificar_conexion()\n",
    "\n",
    "        print(\"⏳ Leyendo archivo CSV...\")\n",
    "        for csv_path in CSV_PATH:\n",
    "            df = pd.read_csv(csv_path, delimiter=',', encoding='utf-8')\n",
    "            column_names = df.columns.tolist()\n",
    "            crear_tabla(column_names)\n",
    "            insertar_registros(df)\n",
    "        print(\"⏳ Insertando registros en la base de datos...\")\n",
    "    except Exception as e:\n",
    "        print(f\"❌ Error en el proceso principal: {e}\")\n",
    "\n",
    "if __name__ == '__main__':\n",
    "    main()"
   ],
   "id": "5a82fd5931320162",
   "outputs": [
    {
     "name": "stdout",
     "output_type": "stream",
     "text": [
      "✅ Conexión exitosa a PostgreSQL.\n",
      "⏳ Leyendo archivo CSV...\n",
      "✅ Tabla creada.\n",
      "✅ Insertados 264 registros.\n",
      "⏳ Insertando registros en la base de datos...\n"
     ]
    }
   ],
   "execution_count": 8
  },
  {
   "metadata": {},
   "cell_type": "markdown",
   "source": "# Generación de los tres DataFrames  principales en función a cada una de las fuentes de datos",
   "id": "b66be35fda91b254"
  },
  {
   "metadata": {
    "ExecuteTime": {
     "end_time": "2025-09-09T05:35:44.140138Z",
     "start_time": "2025-09-09T05:35:44.095013Z"
    }
   },
   "cell_type": "code",
   "source": [
    "## pueden crear varios df en base a la consulta que deseen hacer por ejemplo: df1\n",
    "df1 = consulta_a_dataframe(\"SELECT * FROM population LIMIT 5;\")\n",
    "df1.drop(columns=['Unnamed: 62'], inplace=True)\n",
    "df1.head()"
   ],
   "id": "ccd39d568318c486",
   "outputs": [
    {
     "name": "stdout",
     "output_type": "stream",
     "text": [
      "✅ Consulta ejecutada con éxito.\n"
     ]
    },
    {
     "name": "stderr",
     "output_type": "stream",
     "text": [
      "C:\\Users\\ADMIN\\AppData\\Local\\Temp\\ipykernel_5384\\1920335490.py:4: UserWarning: pandas only supports SQLAlchemy connectable (engine/connection) or database string URI or sqlite3 DBAPI2 connection. Other DBAPI2 objects are not tested. Please consider using SQLAlchemy.\n",
      "  df = pd.read_sql_query(query, conn, params=params)\n"
     ]
    },
    {
     "data": {
      "text/plain": [
       "   id Country Name Country Code     Indicator Name Indicator Code       1960  \\\n",
       "0   1        Aruba          ABW  Population, total    SP.POP.TOTL    54211.0   \n",
       "1   2  Afghanistan          AFG  Population, total    SP.POP.TOTL  8996351.0   \n",
       "2   3       Angola          AGO  Population, total    SP.POP.TOTL  5643182.0   \n",
       "3   4      Albania          ALB  Population, total    SP.POP.TOTL  1608800.0   \n",
       "4   5      Andorra          AND  Population, total    SP.POP.TOTL    13411.0   \n",
       "\n",
       "        1961       1962       1963       1964  ...        2008        2009  \\\n",
       "0    55438.0    56225.0    56695.0    57032.0  ...    101353.0    101453.0   \n",
       "1  9166764.0  9345868.0  9533954.0  9731361.0  ...  27294031.0  28004331.0   \n",
       "2  5753024.0  5866061.0  5980417.0  6093321.0  ...  21759420.0  22549547.0   \n",
       "3  1659800.0  1711319.0  1762621.0  1814135.0  ...   2947314.0   2927519.0   \n",
       "4    14375.0    15370.0    16412.0    17469.0  ...     83861.0     84462.0   \n",
       "\n",
       "         2010        2011        2012        2013        2014        2015  \\\n",
       "0    101669.0    102053.0    102577.0    103187.0    103795.0    104341.0   \n",
       "1  28803167.0  29708599.0  30696958.0  31731688.0  32758020.0  33736494.0   \n",
       "2  23369131.0  24218565.0  25096150.0  25998340.0  26920466.0  27859305.0   \n",
       "3   2913021.0   2905195.0   2900401.0   2895092.0   2889104.0   2880703.0   \n",
       "4     84449.0     83751.0     82431.0     80788.0     79223.0     78014.0   \n",
       "\n",
       "         2016        2017  \n",
       "0    104822.0    105264.0  \n",
       "1  34656032.0  35530081.0  \n",
       "2  28813463.0  29784193.0  \n",
       "3   2876101.0   2873457.0  \n",
       "4     77281.0     76965.0  \n",
       "\n",
       "[5 rows x 63 columns]"
      ],
      "text/html": [
       "<div>\n",
       "<style scoped>\n",
       "    .dataframe tbody tr th:only-of-type {\n",
       "        vertical-align: middle;\n",
       "    }\n",
       "\n",
       "    .dataframe tbody tr th {\n",
       "        vertical-align: top;\n",
       "    }\n",
       "\n",
       "    .dataframe thead th {\n",
       "        text-align: right;\n",
       "    }\n",
       "</style>\n",
       "<table border=\"1\" class=\"dataframe\">\n",
       "  <thead>\n",
       "    <tr style=\"text-align: right;\">\n",
       "      <th></th>\n",
       "      <th>id</th>\n",
       "      <th>Country Name</th>\n",
       "      <th>Country Code</th>\n",
       "      <th>Indicator Name</th>\n",
       "      <th>Indicator Code</th>\n",
       "      <th>1960</th>\n",
       "      <th>1961</th>\n",
       "      <th>1962</th>\n",
       "      <th>1963</th>\n",
       "      <th>1964</th>\n",
       "      <th>...</th>\n",
       "      <th>2008</th>\n",
       "      <th>2009</th>\n",
       "      <th>2010</th>\n",
       "      <th>2011</th>\n",
       "      <th>2012</th>\n",
       "      <th>2013</th>\n",
       "      <th>2014</th>\n",
       "      <th>2015</th>\n",
       "      <th>2016</th>\n",
       "      <th>2017</th>\n",
       "    </tr>\n",
       "  </thead>\n",
       "  <tbody>\n",
       "    <tr>\n",
       "      <th>0</th>\n",
       "      <td>1</td>\n",
       "      <td>Aruba</td>\n",
       "      <td>ABW</td>\n",
       "      <td>Population, total</td>\n",
       "      <td>SP.POP.TOTL</td>\n",
       "      <td>54211.0</td>\n",
       "      <td>55438.0</td>\n",
       "      <td>56225.0</td>\n",
       "      <td>56695.0</td>\n",
       "      <td>57032.0</td>\n",
       "      <td>...</td>\n",
       "      <td>101353.0</td>\n",
       "      <td>101453.0</td>\n",
       "      <td>101669.0</td>\n",
       "      <td>102053.0</td>\n",
       "      <td>102577.0</td>\n",
       "      <td>103187.0</td>\n",
       "      <td>103795.0</td>\n",
       "      <td>104341.0</td>\n",
       "      <td>104822.0</td>\n",
       "      <td>105264.0</td>\n",
       "    </tr>\n",
       "    <tr>\n",
       "      <th>1</th>\n",
       "      <td>2</td>\n",
       "      <td>Afghanistan</td>\n",
       "      <td>AFG</td>\n",
       "      <td>Population, total</td>\n",
       "      <td>SP.POP.TOTL</td>\n",
       "      <td>8996351.0</td>\n",
       "      <td>9166764.0</td>\n",
       "      <td>9345868.0</td>\n",
       "      <td>9533954.0</td>\n",
       "      <td>9731361.0</td>\n",
       "      <td>...</td>\n",
       "      <td>27294031.0</td>\n",
       "      <td>28004331.0</td>\n",
       "      <td>28803167.0</td>\n",
       "      <td>29708599.0</td>\n",
       "      <td>30696958.0</td>\n",
       "      <td>31731688.0</td>\n",
       "      <td>32758020.0</td>\n",
       "      <td>33736494.0</td>\n",
       "      <td>34656032.0</td>\n",
       "      <td>35530081.0</td>\n",
       "    </tr>\n",
       "    <tr>\n",
       "      <th>2</th>\n",
       "      <td>3</td>\n",
       "      <td>Angola</td>\n",
       "      <td>AGO</td>\n",
       "      <td>Population, total</td>\n",
       "      <td>SP.POP.TOTL</td>\n",
       "      <td>5643182.0</td>\n",
       "      <td>5753024.0</td>\n",
       "      <td>5866061.0</td>\n",
       "      <td>5980417.0</td>\n",
       "      <td>6093321.0</td>\n",
       "      <td>...</td>\n",
       "      <td>21759420.0</td>\n",
       "      <td>22549547.0</td>\n",
       "      <td>23369131.0</td>\n",
       "      <td>24218565.0</td>\n",
       "      <td>25096150.0</td>\n",
       "      <td>25998340.0</td>\n",
       "      <td>26920466.0</td>\n",
       "      <td>27859305.0</td>\n",
       "      <td>28813463.0</td>\n",
       "      <td>29784193.0</td>\n",
       "    </tr>\n",
       "    <tr>\n",
       "      <th>3</th>\n",
       "      <td>4</td>\n",
       "      <td>Albania</td>\n",
       "      <td>ALB</td>\n",
       "      <td>Population, total</td>\n",
       "      <td>SP.POP.TOTL</td>\n",
       "      <td>1608800.0</td>\n",
       "      <td>1659800.0</td>\n",
       "      <td>1711319.0</td>\n",
       "      <td>1762621.0</td>\n",
       "      <td>1814135.0</td>\n",
       "      <td>...</td>\n",
       "      <td>2947314.0</td>\n",
       "      <td>2927519.0</td>\n",
       "      <td>2913021.0</td>\n",
       "      <td>2905195.0</td>\n",
       "      <td>2900401.0</td>\n",
       "      <td>2895092.0</td>\n",
       "      <td>2889104.0</td>\n",
       "      <td>2880703.0</td>\n",
       "      <td>2876101.0</td>\n",
       "      <td>2873457.0</td>\n",
       "    </tr>\n",
       "    <tr>\n",
       "      <th>4</th>\n",
       "      <td>5</td>\n",
       "      <td>Andorra</td>\n",
       "      <td>AND</td>\n",
       "      <td>Population, total</td>\n",
       "      <td>SP.POP.TOTL</td>\n",
       "      <td>13411.0</td>\n",
       "      <td>14375.0</td>\n",
       "      <td>15370.0</td>\n",
       "      <td>16412.0</td>\n",
       "      <td>17469.0</td>\n",
       "      <td>...</td>\n",
       "      <td>83861.0</td>\n",
       "      <td>84462.0</td>\n",
       "      <td>84449.0</td>\n",
       "      <td>83751.0</td>\n",
       "      <td>82431.0</td>\n",
       "      <td>80788.0</td>\n",
       "      <td>79223.0</td>\n",
       "      <td>78014.0</td>\n",
       "      <td>77281.0</td>\n",
       "      <td>76965.0</td>\n",
       "    </tr>\n",
       "  </tbody>\n",
       "</table>\n",
       "<p>5 rows × 63 columns</p>\n",
       "</div>"
      ]
     },
     "execution_count": 9,
     "metadata": {},
     "output_type": "execute_result"
    }
   ],
   "execution_count": 9
  },
  {
   "metadata": {
    "ExecuteTime": {
     "end_time": "2025-09-09T05:35:47.313270Z",
     "start_time": "2025-09-09T05:35:47.281364Z"
    }
   },
   "cell_type": "code",
   "source": [
    "df2 = consulta_a_dataframe(\"SELECT * FROM population LIMIT 15;\")\n",
    "df2.head(10)"
   ],
   "id": "ad3f9ff91ab09462",
   "outputs": [
    {
     "name": "stdout",
     "output_type": "stream",
     "text": [
      "✅ Consulta ejecutada con éxito.\n"
     ]
    },
    {
     "name": "stderr",
     "output_type": "stream",
     "text": [
      "C:\\Users\\ADMIN\\AppData\\Local\\Temp\\ipykernel_5384\\1920335490.py:4: UserWarning: pandas only supports SQLAlchemy connectable (engine/connection) or database string URI or sqlite3 DBAPI2 connection. Other DBAPI2 objects are not tested. Please consider using SQLAlchemy.\n",
      "  df = pd.read_sql_query(query, conn, params=params)\n"
     ]
    },
    {
     "data": {
      "text/plain": [
       "   id          Country Name Country Code     Indicator Name Indicator Code  \\\n",
       "0   1                 Aruba          ABW  Population, total    SP.POP.TOTL   \n",
       "1   2           Afghanistan          AFG  Population, total    SP.POP.TOTL   \n",
       "2   3                Angola          AGO  Population, total    SP.POP.TOTL   \n",
       "3   4               Albania          ALB  Population, total    SP.POP.TOTL   \n",
       "4   5               Andorra          AND  Population, total    SP.POP.TOTL   \n",
       "5   6            Arab World          ARB  Population, total    SP.POP.TOTL   \n",
       "6   7  United Arab Emirates          ARE  Population, total    SP.POP.TOTL   \n",
       "7   8             Argentina          ARG  Population, total    SP.POP.TOTL   \n",
       "8   9               Armenia          ARM  Population, total    SP.POP.TOTL   \n",
       "9  10        American Samoa          ASM  Population, total    SP.POP.TOTL   \n",
       "\n",
       "         1960        1961        1962         1963         1964  ...  \\\n",
       "0     54211.0     55438.0     56225.0      56695.0      57032.0  ...   \n",
       "1   8996351.0   9166764.0   9345868.0    9533954.0    9731361.0  ...   \n",
       "2   5643182.0   5753024.0   5866061.0    5980417.0    6093321.0  ...   \n",
       "3   1608800.0   1659800.0   1711319.0    1762621.0    1814135.0  ...   \n",
       "4     13411.0     14375.0     15370.0      16412.0      17469.0  ...   \n",
       "5  92490932.0  95044497.0  97682294.0  100411076.0  103239902.0  ...   \n",
       "6     92634.0    101078.0    112472.0     125566.0     138529.0  ...   \n",
       "7  20619075.0  20953077.0  21287682.0   21621840.0   21953929.0  ...   \n",
       "8   1874120.0   1941491.0   2009526.0    2077575.0    2144998.0  ...   \n",
       "9     20013.0     20486.0     21117.0      21882.0      22698.0  ...   \n",
       "\n",
       "          2009         2010         2011         2012         2013  \\\n",
       "0     101453.0     101669.0     102053.0     102577.0     103187.0   \n",
       "1   28004331.0   28803167.0   29708599.0   30696958.0   31731688.0   \n",
       "2   22549547.0   23369131.0   24218565.0   25096150.0   25998340.0   \n",
       "3    2927519.0    2913021.0    2905195.0    2900401.0    2895092.0   \n",
       "4      84462.0      84449.0      83751.0      82431.0      80788.0   \n",
       "5  348145094.0  356508908.0  364895878.0  373306993.0  381702086.0   \n",
       "6    7666393.0    8270684.0    8672475.0    8900453.0    9006263.0   \n",
       "7   40799407.0   41223889.0   41656879.0   42096739.0   42539925.0   \n",
       "8    2888584.0    2877311.0    2875581.0    2881922.0    2893509.0   \n",
       "9      56227.0      55637.0      55320.0      55230.0      55307.0   \n",
       "\n",
       "          2014         2015         2016         2017 Unnamed: 62  \n",
       "0     103795.0     104341.0     104822.0     105264.0         NaN  \n",
       "1   32758020.0   33736494.0   34656032.0   35530081.0         NaN  \n",
       "2   26920466.0   27859305.0   28813463.0   29784193.0         NaN  \n",
       "3    2889104.0    2880703.0    2876101.0    2873457.0         NaN  \n",
       "4      79223.0      78014.0      77281.0      76965.0         NaN  \n",
       "5  390043028.0  398304960.0  406452690.0  414491886.0         NaN  \n",
       "6    9070867.0    9154302.0    9269612.0    9400145.0         NaN  \n",
       "7   42981515.0   43417765.0   43847430.0   44271041.0         NaN  \n",
       "8    2906220.0    2916950.0    2924816.0    2930450.0         NaN  \n",
       "9      55437.0      55537.0      55599.0      55641.0         NaN  \n",
       "\n",
       "[10 rows x 64 columns]"
      ],
      "text/html": [
       "<div>\n",
       "<style scoped>\n",
       "    .dataframe tbody tr th:only-of-type {\n",
       "        vertical-align: middle;\n",
       "    }\n",
       "\n",
       "    .dataframe tbody tr th {\n",
       "        vertical-align: top;\n",
       "    }\n",
       "\n",
       "    .dataframe thead th {\n",
       "        text-align: right;\n",
       "    }\n",
       "</style>\n",
       "<table border=\"1\" class=\"dataframe\">\n",
       "  <thead>\n",
       "    <tr style=\"text-align: right;\">\n",
       "      <th></th>\n",
       "      <th>id</th>\n",
       "      <th>Country Name</th>\n",
       "      <th>Country Code</th>\n",
       "      <th>Indicator Name</th>\n",
       "      <th>Indicator Code</th>\n",
       "      <th>1960</th>\n",
       "      <th>1961</th>\n",
       "      <th>1962</th>\n",
       "      <th>1963</th>\n",
       "      <th>1964</th>\n",
       "      <th>...</th>\n",
       "      <th>2009</th>\n",
       "      <th>2010</th>\n",
       "      <th>2011</th>\n",
       "      <th>2012</th>\n",
       "      <th>2013</th>\n",
       "      <th>2014</th>\n",
       "      <th>2015</th>\n",
       "      <th>2016</th>\n",
       "      <th>2017</th>\n",
       "      <th>Unnamed: 62</th>\n",
       "    </tr>\n",
       "  </thead>\n",
       "  <tbody>\n",
       "    <tr>\n",
       "      <th>0</th>\n",
       "      <td>1</td>\n",
       "      <td>Aruba</td>\n",
       "      <td>ABW</td>\n",
       "      <td>Population, total</td>\n",
       "      <td>SP.POP.TOTL</td>\n",
       "      <td>54211.0</td>\n",
       "      <td>55438.0</td>\n",
       "      <td>56225.0</td>\n",
       "      <td>56695.0</td>\n",
       "      <td>57032.0</td>\n",
       "      <td>...</td>\n",
       "      <td>101453.0</td>\n",
       "      <td>101669.0</td>\n",
       "      <td>102053.0</td>\n",
       "      <td>102577.0</td>\n",
       "      <td>103187.0</td>\n",
       "      <td>103795.0</td>\n",
       "      <td>104341.0</td>\n",
       "      <td>104822.0</td>\n",
       "      <td>105264.0</td>\n",
       "      <td>NaN</td>\n",
       "    </tr>\n",
       "    <tr>\n",
       "      <th>1</th>\n",
       "      <td>2</td>\n",
       "      <td>Afghanistan</td>\n",
       "      <td>AFG</td>\n",
       "      <td>Population, total</td>\n",
       "      <td>SP.POP.TOTL</td>\n",
       "      <td>8996351.0</td>\n",
       "      <td>9166764.0</td>\n",
       "      <td>9345868.0</td>\n",
       "      <td>9533954.0</td>\n",
       "      <td>9731361.0</td>\n",
       "      <td>...</td>\n",
       "      <td>28004331.0</td>\n",
       "      <td>28803167.0</td>\n",
       "      <td>29708599.0</td>\n",
       "      <td>30696958.0</td>\n",
       "      <td>31731688.0</td>\n",
       "      <td>32758020.0</td>\n",
       "      <td>33736494.0</td>\n",
       "      <td>34656032.0</td>\n",
       "      <td>35530081.0</td>\n",
       "      <td>NaN</td>\n",
       "    </tr>\n",
       "    <tr>\n",
       "      <th>2</th>\n",
       "      <td>3</td>\n",
       "      <td>Angola</td>\n",
       "      <td>AGO</td>\n",
       "      <td>Population, total</td>\n",
       "      <td>SP.POP.TOTL</td>\n",
       "      <td>5643182.0</td>\n",
       "      <td>5753024.0</td>\n",
       "      <td>5866061.0</td>\n",
       "      <td>5980417.0</td>\n",
       "      <td>6093321.0</td>\n",
       "      <td>...</td>\n",
       "      <td>22549547.0</td>\n",
       "      <td>23369131.0</td>\n",
       "      <td>24218565.0</td>\n",
       "      <td>25096150.0</td>\n",
       "      <td>25998340.0</td>\n",
       "      <td>26920466.0</td>\n",
       "      <td>27859305.0</td>\n",
       "      <td>28813463.0</td>\n",
       "      <td>29784193.0</td>\n",
       "      <td>NaN</td>\n",
       "    </tr>\n",
       "    <tr>\n",
       "      <th>3</th>\n",
       "      <td>4</td>\n",
       "      <td>Albania</td>\n",
       "      <td>ALB</td>\n",
       "      <td>Population, total</td>\n",
       "      <td>SP.POP.TOTL</td>\n",
       "      <td>1608800.0</td>\n",
       "      <td>1659800.0</td>\n",
       "      <td>1711319.0</td>\n",
       "      <td>1762621.0</td>\n",
       "      <td>1814135.0</td>\n",
       "      <td>...</td>\n",
       "      <td>2927519.0</td>\n",
       "      <td>2913021.0</td>\n",
       "      <td>2905195.0</td>\n",
       "      <td>2900401.0</td>\n",
       "      <td>2895092.0</td>\n",
       "      <td>2889104.0</td>\n",
       "      <td>2880703.0</td>\n",
       "      <td>2876101.0</td>\n",
       "      <td>2873457.0</td>\n",
       "      <td>NaN</td>\n",
       "    </tr>\n",
       "    <tr>\n",
       "      <th>4</th>\n",
       "      <td>5</td>\n",
       "      <td>Andorra</td>\n",
       "      <td>AND</td>\n",
       "      <td>Population, total</td>\n",
       "      <td>SP.POP.TOTL</td>\n",
       "      <td>13411.0</td>\n",
       "      <td>14375.0</td>\n",
       "      <td>15370.0</td>\n",
       "      <td>16412.0</td>\n",
       "      <td>17469.0</td>\n",
       "      <td>...</td>\n",
       "      <td>84462.0</td>\n",
       "      <td>84449.0</td>\n",
       "      <td>83751.0</td>\n",
       "      <td>82431.0</td>\n",
       "      <td>80788.0</td>\n",
       "      <td>79223.0</td>\n",
       "      <td>78014.0</td>\n",
       "      <td>77281.0</td>\n",
       "      <td>76965.0</td>\n",
       "      <td>NaN</td>\n",
       "    </tr>\n",
       "    <tr>\n",
       "      <th>5</th>\n",
       "      <td>6</td>\n",
       "      <td>Arab World</td>\n",
       "      <td>ARB</td>\n",
       "      <td>Population, total</td>\n",
       "      <td>SP.POP.TOTL</td>\n",
       "      <td>92490932.0</td>\n",
       "      <td>95044497.0</td>\n",
       "      <td>97682294.0</td>\n",
       "      <td>100411076.0</td>\n",
       "      <td>103239902.0</td>\n",
       "      <td>...</td>\n",
       "      <td>348145094.0</td>\n",
       "      <td>356508908.0</td>\n",
       "      <td>364895878.0</td>\n",
       "      <td>373306993.0</td>\n",
       "      <td>381702086.0</td>\n",
       "      <td>390043028.0</td>\n",
       "      <td>398304960.0</td>\n",
       "      <td>406452690.0</td>\n",
       "      <td>414491886.0</td>\n",
       "      <td>NaN</td>\n",
       "    </tr>\n",
       "    <tr>\n",
       "      <th>6</th>\n",
       "      <td>7</td>\n",
       "      <td>United Arab Emirates</td>\n",
       "      <td>ARE</td>\n",
       "      <td>Population, total</td>\n",
       "      <td>SP.POP.TOTL</td>\n",
       "      <td>92634.0</td>\n",
       "      <td>101078.0</td>\n",
       "      <td>112472.0</td>\n",
       "      <td>125566.0</td>\n",
       "      <td>138529.0</td>\n",
       "      <td>...</td>\n",
       "      <td>7666393.0</td>\n",
       "      <td>8270684.0</td>\n",
       "      <td>8672475.0</td>\n",
       "      <td>8900453.0</td>\n",
       "      <td>9006263.0</td>\n",
       "      <td>9070867.0</td>\n",
       "      <td>9154302.0</td>\n",
       "      <td>9269612.0</td>\n",
       "      <td>9400145.0</td>\n",
       "      <td>NaN</td>\n",
       "    </tr>\n",
       "    <tr>\n",
       "      <th>7</th>\n",
       "      <td>8</td>\n",
       "      <td>Argentina</td>\n",
       "      <td>ARG</td>\n",
       "      <td>Population, total</td>\n",
       "      <td>SP.POP.TOTL</td>\n",
       "      <td>20619075.0</td>\n",
       "      <td>20953077.0</td>\n",
       "      <td>21287682.0</td>\n",
       "      <td>21621840.0</td>\n",
       "      <td>21953929.0</td>\n",
       "      <td>...</td>\n",
       "      <td>40799407.0</td>\n",
       "      <td>41223889.0</td>\n",
       "      <td>41656879.0</td>\n",
       "      <td>42096739.0</td>\n",
       "      <td>42539925.0</td>\n",
       "      <td>42981515.0</td>\n",
       "      <td>43417765.0</td>\n",
       "      <td>43847430.0</td>\n",
       "      <td>44271041.0</td>\n",
       "      <td>NaN</td>\n",
       "    </tr>\n",
       "    <tr>\n",
       "      <th>8</th>\n",
       "      <td>9</td>\n",
       "      <td>Armenia</td>\n",
       "      <td>ARM</td>\n",
       "      <td>Population, total</td>\n",
       "      <td>SP.POP.TOTL</td>\n",
       "      <td>1874120.0</td>\n",
       "      <td>1941491.0</td>\n",
       "      <td>2009526.0</td>\n",
       "      <td>2077575.0</td>\n",
       "      <td>2144998.0</td>\n",
       "      <td>...</td>\n",
       "      <td>2888584.0</td>\n",
       "      <td>2877311.0</td>\n",
       "      <td>2875581.0</td>\n",
       "      <td>2881922.0</td>\n",
       "      <td>2893509.0</td>\n",
       "      <td>2906220.0</td>\n",
       "      <td>2916950.0</td>\n",
       "      <td>2924816.0</td>\n",
       "      <td>2930450.0</td>\n",
       "      <td>NaN</td>\n",
       "    </tr>\n",
       "    <tr>\n",
       "      <th>9</th>\n",
       "      <td>10</td>\n",
       "      <td>American Samoa</td>\n",
       "      <td>ASM</td>\n",
       "      <td>Population, total</td>\n",
       "      <td>SP.POP.TOTL</td>\n",
       "      <td>20013.0</td>\n",
       "      <td>20486.0</td>\n",
       "      <td>21117.0</td>\n",
       "      <td>21882.0</td>\n",
       "      <td>22698.0</td>\n",
       "      <td>...</td>\n",
       "      <td>56227.0</td>\n",
       "      <td>55637.0</td>\n",
       "      <td>55320.0</td>\n",
       "      <td>55230.0</td>\n",
       "      <td>55307.0</td>\n",
       "      <td>55437.0</td>\n",
       "      <td>55537.0</td>\n",
       "      <td>55599.0</td>\n",
       "      <td>55641.0</td>\n",
       "      <td>NaN</td>\n",
       "    </tr>\n",
       "  </tbody>\n",
       "</table>\n",
       "<p>10 rows × 64 columns</p>\n",
       "</div>"
      ]
     },
     "execution_count": 10,
     "metadata": {},
     "output_type": "execute_result"
    }
   ],
   "execution_count": 10
  },
  {
   "metadata": {},
   "cell_type": "markdown",
   "source": "#### Genera un resumen estadístico de los datos de las columnas numéricas y distribución percentiles.",
   "id": "3d2070157c2fd8ed"
  },
  {
   "metadata": {
    "ExecuteTime": {
     "end_time": "2025-09-09T05:35:51.244002Z",
     "start_time": "2025-09-09T05:35:51.237043Z"
    }
   },
   "cell_type": "code",
   "source": "df1.describe()",
   "id": "2edcfd02f8a9c1da",
   "outputs": [
    {
     "data": {
      "text/plain": [
       "             id\n",
       "count  5.000000\n",
       "mean   3.000000\n",
       "std    1.581139\n",
       "min    1.000000\n",
       "25%    2.000000\n",
       "50%    3.000000\n",
       "75%    4.000000\n",
       "max    5.000000"
      ],
      "text/html": [
       "<div>\n",
       "<style scoped>\n",
       "    .dataframe tbody tr th:only-of-type {\n",
       "        vertical-align: middle;\n",
       "    }\n",
       "\n",
       "    .dataframe tbody tr th {\n",
       "        vertical-align: top;\n",
       "    }\n",
       "\n",
       "    .dataframe thead th {\n",
       "        text-align: right;\n",
       "    }\n",
       "</style>\n",
       "<table border=\"1\" class=\"dataframe\">\n",
       "  <thead>\n",
       "    <tr style=\"text-align: right;\">\n",
       "      <th></th>\n",
       "      <th>id</th>\n",
       "    </tr>\n",
       "  </thead>\n",
       "  <tbody>\n",
       "    <tr>\n",
       "      <th>count</th>\n",
       "      <td>5.000000</td>\n",
       "    </tr>\n",
       "    <tr>\n",
       "      <th>mean</th>\n",
       "      <td>3.000000</td>\n",
       "    </tr>\n",
       "    <tr>\n",
       "      <th>std</th>\n",
       "      <td>1.581139</td>\n",
       "    </tr>\n",
       "    <tr>\n",
       "      <th>min</th>\n",
       "      <td>1.000000</td>\n",
       "    </tr>\n",
       "    <tr>\n",
       "      <th>25%</th>\n",
       "      <td>2.000000</td>\n",
       "    </tr>\n",
       "    <tr>\n",
       "      <th>50%</th>\n",
       "      <td>3.000000</td>\n",
       "    </tr>\n",
       "    <tr>\n",
       "      <th>75%</th>\n",
       "      <td>4.000000</td>\n",
       "    </tr>\n",
       "    <tr>\n",
       "      <th>max</th>\n",
       "      <td>5.000000</td>\n",
       "    </tr>\n",
       "  </tbody>\n",
       "</table>\n",
       "</div>"
      ]
     },
     "execution_count": 11,
     "metadata": {},
     "output_type": "execute_result"
    }
   ],
   "execution_count": 11
  },
  {
   "metadata": {
    "ExecuteTime": {
     "end_time": "2025-09-09T05:35:53.482760Z",
     "start_time": "2025-09-09T05:35:53.472782Z"
    }
   },
   "cell_type": "code",
   "source": "df2.describe()",
   "id": "51ce6ddfbe944686",
   "outputs": [
    {
     "data": {
      "text/plain": [
       "              id\n",
       "count  15.000000\n",
       "mean    8.000000\n",
       "std     4.472136\n",
       "min     1.000000\n",
       "25%     4.500000\n",
       "50%     8.000000\n",
       "75%    11.500000\n",
       "max    15.000000"
      ],
      "text/html": [
       "<div>\n",
       "<style scoped>\n",
       "    .dataframe tbody tr th:only-of-type {\n",
       "        vertical-align: middle;\n",
       "    }\n",
       "\n",
       "    .dataframe tbody tr th {\n",
       "        vertical-align: top;\n",
       "    }\n",
       "\n",
       "    .dataframe thead th {\n",
       "        text-align: right;\n",
       "    }\n",
       "</style>\n",
       "<table border=\"1\" class=\"dataframe\">\n",
       "  <thead>\n",
       "    <tr style=\"text-align: right;\">\n",
       "      <th></th>\n",
       "      <th>id</th>\n",
       "    </tr>\n",
       "  </thead>\n",
       "  <tbody>\n",
       "    <tr>\n",
       "      <th>count</th>\n",
       "      <td>15.000000</td>\n",
       "    </tr>\n",
       "    <tr>\n",
       "      <th>mean</th>\n",
       "      <td>8.000000</td>\n",
       "    </tr>\n",
       "    <tr>\n",
       "      <th>std</th>\n",
       "      <td>4.472136</td>\n",
       "    </tr>\n",
       "    <tr>\n",
       "      <th>min</th>\n",
       "      <td>1.000000</td>\n",
       "    </tr>\n",
       "    <tr>\n",
       "      <th>25%</th>\n",
       "      <td>4.500000</td>\n",
       "    </tr>\n",
       "    <tr>\n",
       "      <th>50%</th>\n",
       "      <td>8.000000</td>\n",
       "    </tr>\n",
       "    <tr>\n",
       "      <th>75%</th>\n",
       "      <td>11.500000</td>\n",
       "    </tr>\n",
       "    <tr>\n",
       "      <th>max</th>\n",
       "      <td>15.000000</td>\n",
       "    </tr>\n",
       "  </tbody>\n",
       "</table>\n",
       "</div>"
      ]
     },
     "execution_count": 12,
     "metadata": {},
     "output_type": "execute_result"
    }
   ],
   "execution_count": 12
  },
  {
   "metadata": {},
   "cell_type": "markdown",
   "source": "### Muestra una tupla con la cantidad de filas y columnas",
   "id": "c0be51ffb7faf22e"
  },
  {
   "metadata": {
    "ExecuteTime": {
     "end_time": "2025-09-09T05:35:55.942628Z",
     "start_time": "2025-09-09T05:35:55.938136Z"
    }
   },
   "cell_type": "code",
   "source": "df1.shape",
   "id": "a68cbcac1d71ddca",
   "outputs": [
    {
     "data": {
      "text/plain": [
       "(5, 63)"
      ]
     },
     "execution_count": 13,
     "metadata": {},
     "output_type": "execute_result"
    }
   ],
   "execution_count": 13
  },
  {
   "metadata": {
    "ExecuteTime": {
     "end_time": "2025-09-09T05:35:57.464512Z",
     "start_time": "2025-09-09T05:35:57.459413Z"
    }
   },
   "cell_type": "code",
   "source": "df2.shape",
   "id": "fa9caf40432c9556",
   "outputs": [
    {
     "data": {
      "text/plain": [
       "(15, 64)"
      ]
     },
     "execution_count": 14,
     "metadata": {},
     "output_type": "execute_result"
    }
   ],
   "execution_count": 14
  },
  {
   "metadata": {},
   "cell_type": "markdown",
   "source": "### Elimina filas duplicadas de los DataFrame",
   "id": "aceff6e4c516089c"
  },
  {
   "metadata": {
    "ExecuteTime": {
     "end_time": "2025-09-09T05:35:59.199476Z",
     "start_time": "2025-09-09T05:35:59.192732Z"
    }
   },
   "cell_type": "code",
   "source": "df1 = df1.drop_duplicates()\n",
   "id": "4cb87e952df59eb1",
   "outputs": [],
   "execution_count": 15
  },
  {
   "metadata": {
    "ExecuteTime": {
     "end_time": "2025-09-09T05:36:02.077853Z",
     "start_time": "2025-09-09T05:36:02.070599Z"
    }
   },
   "cell_type": "code",
   "source": "df2 = df2.drop_duplicates()\n",
   "id": "cc0f09aefd6345aa",
   "outputs": [],
   "execution_count": 16
  },
  {
   "metadata": {},
   "cell_type": "markdown",
   "source": "### Revisa y detecta valores nulos en las columnas de los DataFrame",
   "id": "6da93191d5ee1d67"
  },
  {
   "metadata": {
    "ExecuteTime": {
     "end_time": "2025-09-09T05:36:06.005669Z",
     "start_time": "2025-09-09T05:36:05.999920Z"
    }
   },
   "cell_type": "code",
   "source": "df1.isnull().sum()",
   "id": "b10e0035cc341de",
   "outputs": [
    {
     "data": {
      "text/plain": [
       "id                0\n",
       "Country Name      0\n",
       "Country Code      0\n",
       "Indicator Name    0\n",
       "Indicator Code    0\n",
       "                 ..\n",
       "2013              0\n",
       "2014              0\n",
       "2015              0\n",
       "2016              0\n",
       "2017              0\n",
       "Length: 63, dtype: int64"
      ]
     },
     "execution_count": 17,
     "metadata": {},
     "output_type": "execute_result"
    }
   ],
   "execution_count": 17
  },
  {
   "metadata": {
    "ExecuteTime": {
     "end_time": "2025-09-09T05:36:08.835021Z",
     "start_time": "2025-09-09T05:36:08.829218Z"
    }
   },
   "cell_type": "code",
   "source": "df2.isnull().sum()\n",
   "id": "61d1ccdfd1d21df4",
   "outputs": [
    {
     "data": {
      "text/plain": [
       "id                0\n",
       "Country Name      0\n",
       "Country Code      0\n",
       "Indicator Name    0\n",
       "Indicator Code    0\n",
       "                 ..\n",
       "2014              0\n",
       "2015              0\n",
       "2016              0\n",
       "2017              0\n",
       "Unnamed: 62       0\n",
       "Length: 64, dtype: int64"
      ]
     },
     "execution_count": 18,
     "metadata": {},
     "output_type": "execute_result"
    }
   ],
   "execution_count": 18
  },
  {
   "metadata": {},
   "cell_type": "markdown",
   "source": "### Revisa y detecta valores nulos en las filas de los DataFrame",
   "id": "30871e5d987b4c31"
  },
  {
   "metadata": {
    "ExecuteTime": {
     "end_time": "2025-09-09T05:36:13.473506Z",
     "start_time": "2025-09-09T05:36:13.466776Z"
    }
   },
   "cell_type": "code",
   "source": "df1.isnull().sum(axis=1)",
   "id": "6b35e9366638819a",
   "outputs": [
    {
     "data": {
      "text/plain": [
       "0    0\n",
       "1    0\n",
       "2    0\n",
       "3    0\n",
       "4    0\n",
       "dtype: int64"
      ]
     },
     "execution_count": 19,
     "metadata": {},
     "output_type": "execute_result"
    }
   ],
   "execution_count": 19
  },
  {
   "metadata": {
    "ExecuteTime": {
     "end_time": "2025-09-09T05:36:15.822257Z",
     "start_time": "2025-09-09T05:36:15.816369Z"
    }
   },
   "cell_type": "code",
   "source": "df2.isnull().sum(axis=1)",
   "id": "c61559f5d83c41c6",
   "outputs": [
    {
     "data": {
      "text/plain": [
       "0     0\n",
       "1     0\n",
       "2     0\n",
       "3     0\n",
       "4     0\n",
       "5     0\n",
       "6     0\n",
       "7     0\n",
       "8     0\n",
       "9     0\n",
       "10    0\n",
       "11    0\n",
       "12    0\n",
       "13    0\n",
       "14    0\n",
       "dtype: int64"
      ]
     },
     "execution_count": 20,
     "metadata": {},
     "output_type": "execute_result"
    }
   ],
   "execution_count": 20
  },
  {
   "metadata": {},
   "cell_type": "markdown",
   "source": "### Validación de cantidad de valores únicos por columnas de los DataFrame",
   "id": "ff2a154ec9f37ff0"
  },
  {
   "metadata": {
    "ExecuteTime": {
     "end_time": "2025-09-09T05:36:18.621401Z",
     "start_time": "2025-09-09T05:36:18.611892Z"
    }
   },
   "cell_type": "code",
   "source": "df1.nunique()",
   "id": "d326f265f3e5b8f1",
   "outputs": [
    {
     "data": {
      "text/plain": [
       "id                5\n",
       "Country Name      5\n",
       "Country Code      5\n",
       "Indicator Name    1\n",
       "Indicator Code    1\n",
       "                 ..\n",
       "2013              5\n",
       "2014              5\n",
       "2015              5\n",
       "2016              5\n",
       "2017              5\n",
       "Length: 63, dtype: int64"
      ]
     },
     "execution_count": 21,
     "metadata": {},
     "output_type": "execute_result"
    }
   ],
   "execution_count": 21
  },
  {
   "metadata": {
    "ExecuteTime": {
     "end_time": "2025-09-09T05:36:20.812118Z",
     "start_time": "2025-09-09T05:36:20.801427Z"
    }
   },
   "cell_type": "code",
   "source": "df2.nunique()\n",
   "id": "aea18c4c7c36d12a",
   "outputs": [
    {
     "data": {
      "text/plain": [
       "id                15\n",
       "Country Name      15\n",
       "Country Code      15\n",
       "Indicator Name     1\n",
       "Indicator Code     1\n",
       "                  ..\n",
       "2014              15\n",
       "2015              15\n",
       "2016              15\n",
       "2017              15\n",
       "Unnamed: 62        1\n",
       "Length: 64, dtype: int64"
      ]
     },
     "execution_count": 22,
     "metadata": {},
     "output_type": "execute_result"
    }
   ],
   "execution_count": 22
  },
  {
   "metadata": {},
   "cell_type": "markdown",
   "source": "### Validación de cantidad de valores únicos por filas de los DataFrame",
   "id": "6c5d36e16ea55498"
  },
  {
   "metadata": {
    "ExecuteTime": {
     "end_time": "2025-09-09T05:36:23.204680Z",
     "start_time": "2025-09-09T05:36:23.198005Z"
    }
   },
   "cell_type": "code",
   "source": "df1.nunique(axis=1)",
   "id": "6f09af5eeef67ad2",
   "outputs": [
    {
     "data": {
      "text/plain": [
       "0    63\n",
       "1    63\n",
       "2    63\n",
       "3    63\n",
       "4    63\n",
       "dtype: int64"
      ]
     },
     "execution_count": 23,
     "metadata": {},
     "output_type": "execute_result"
    }
   ],
   "execution_count": 23
  },
  {
   "metadata": {
    "ExecuteTime": {
     "end_time": "2025-09-09T05:36:25.320244Z",
     "start_time": "2025-09-09T05:36:25.314365Z"
    }
   },
   "cell_type": "code",
   "source": "df2.nunique(axis=1)\n",
   "id": "ad9b673d038e0131",
   "outputs": [
    {
     "data": {
      "text/plain": [
       "0     64\n",
       "1     64\n",
       "2     64\n",
       "3     64\n",
       "4     64\n",
       "5     64\n",
       "6     64\n",
       "7     64\n",
       "8     64\n",
       "9     64\n",
       "10    64\n",
       "11    64\n",
       "12    64\n",
       "13    64\n",
       "14    64\n",
       "dtype: int64"
      ]
     },
     "execution_count": 24,
     "metadata": {},
     "output_type": "execute_result"
    }
   ],
   "execution_count": 24
  },
  {
   "metadata": {},
   "cell_type": "markdown",
   "source": "",
   "id": "3890273574033c9d"
  }
 ],
 "metadata": {
  "kernelspec": {
   "display_name": "Python 3",
   "language": "python",
   "name": "python3"
  },
  "language_info": {
   "codemirror_mode": {
    "name": "ipython",
    "version": 2
   },
   "file_extension": ".py",
   "mimetype": "text/x-python",
   "name": "python",
   "nbconvert_exporter": "python",
   "pygments_lexer": "ipython2",
   "version": "2.7.6"
  }
 },
 "nbformat": 4,
 "nbformat_minor": 5
}
